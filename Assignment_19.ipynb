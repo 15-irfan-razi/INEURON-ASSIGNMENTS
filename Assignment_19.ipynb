{
 "cells": [
  {
   "cell_type": "markdown",
   "id": "ee427d30",
   "metadata": {},
   "source": [
    "### 1. Make a class called Thing with no contents and print it. Then, create an object called example from this class and also print it. Are the printed values the same or different?"
   ]
  },
  {
   "cell_type": "code",
   "execution_count": 3,
   "id": "a37673b5",
   "metadata": {},
   "outputs": [
    {
     "name": "stdout",
     "output_type": "stream",
     "text": [
      "<__main__.Things object at 0x00000220B7225B20>\n"
     ]
    }
   ],
   "source": [
    "class Things:\n",
    "    def __init__(self):\n",
    "        pass\n",
    "print(Things())"
   ]
  },
  {
   "cell_type": "code",
   "execution_count": 4,
   "id": "f6c08c16",
   "metadata": {},
   "outputs": [
    {
     "name": "stdout",
     "output_type": "stream",
     "text": [
      "<__main__.Things object at 0x00000220B7225970>\n"
     ]
    }
   ],
   "source": [
    "example=Things()\n",
    "print(example)"
   ]
  },
  {
   "cell_type": "markdown",
   "id": "c5e4f47c",
   "metadata": {},
   "source": [
    "Both are printing different reference location."
   ]
  },
  {
   "cell_type": "markdown",
   "id": "df793f05",
   "metadata": {},
   "source": [
    "### 2. Create a new class called Thing2 and add the value 'abc' to the letters class attribute. Letters should be printed."
   ]
  },
  {
   "cell_type": "code",
   "execution_count": 5,
   "id": "9fa86714",
   "metadata": {},
   "outputs": [
    {
     "name": "stdout",
     "output_type": "stream",
     "text": [
      "abc\n"
     ]
    },
    {
     "data": {
      "text/plain": [
       "<__main__.Thing2 at 0x220b7225940>"
      ]
     },
     "execution_count": 5,
     "metadata": {},
     "output_type": "execute_result"
    }
   ],
   "source": [
    "class Thing2:\n",
    "    def __init__(self, letters='abc'):\n",
    "        self.letters=letters\n",
    "        print(letters)\n",
    "Thing2()"
   ]
  },
  {
   "cell_type": "markdown",
   "id": "1ab15fbe",
   "metadata": {},
   "source": [
    "### 3. Make yet another class called, of course, Thing3. This time, assign the value 'xyz' to an instance (object) attribute called letters. Print letters. Do you need to make an object from the class to do this?"
   ]
  },
  {
   "cell_type": "code",
   "execution_count": 6,
   "id": "03f92f2b",
   "metadata": {},
   "outputs": [
    {
     "name": "stdout",
     "output_type": "stream",
     "text": [
      "xyz\n"
     ]
    }
   ],
   "source": [
    "class Thing3:\n",
    "    def __init__(self, letters='abc'):\n",
    "        self.letters=letters\n",
    "        print(letters)\n",
    "obj=Thing3('xyz')"
   ]
  },
  {
   "cell_type": "markdown",
   "id": "a68a3c03",
   "metadata": {},
   "source": [
    "Yes, an object instance has been required to be created."
   ]
  },
  {
   "cell_type": "markdown",
   "id": "6e30f27b",
   "metadata": {},
   "source": [
    "### 4. Create an Element class with the instance attributes name, symbol, and number. Create a class object with the values 'Hydrogen,' 'H,' and 1."
   ]
  },
  {
   "cell_type": "code",
   "execution_count": 7,
   "id": "93baf985",
   "metadata": {},
   "outputs": [],
   "source": [
    "class Element:\n",
    "    def __init__(self, name, symbol, number):\n",
    "        self.name=name\n",
    "        self.symbol=symbol\n",
    "        self.number=number\n",
    "        \n",
    "obj=Element('Hydrogen','H',1)"
   ]
  },
  {
   "cell_type": "markdown",
   "id": "39f8b2d1",
   "metadata": {},
   "source": [
    "### 5. Make a dictionary with these keys and values: 'name': 'Hydrogen', 'symbol': 'H', 'number': 1. Then, create an object called hydrogen from class Element using this dictionary."
   ]
  },
  {
   "cell_type": "code",
   "execution_count": 9,
   "id": "d2794ea1",
   "metadata": {},
   "outputs": [],
   "source": [
    "dct={'name':'Hydrogen','symbol':'H', 'number':1}\n",
    "obj=Element(**dct)"
   ]
  },
  {
   "cell_type": "markdown",
   "id": "aa8c304c",
   "metadata": {},
   "source": [
    "### 6. For the Element class, define a method called dump() that prints the values of the object’s attributes (name, symbol, and number). Create the hydrogen object from this new definition and use dump() to print its attributes."
   ]
  },
  {
   "cell_type": "code",
   "execution_count": 31,
   "id": "5ebb4a85",
   "metadata": {},
   "outputs": [],
   "source": [
    "class Element:\n",
    "    def __init__(self, name, symbol, number):\n",
    "        self.name=name\n",
    "        self.symbol=symbol\n",
    "        self.number=number\n",
    "        \n",
    "    def dump(self):\n",
    "        print('The name of the Element is:',self.name)\n",
    "        print('The symbol of the Element is:',self.symbol)\n",
    "        print('The atomic number of the Element is:',self.number)\n",
    "        \n",
    "dct={'name':'Hydrogen','symbol':'H', 'number':1}\n",
    "obj=Element(**dct)"
   ]
  },
  {
   "cell_type": "code",
   "execution_count": 32,
   "id": "248f9ea2",
   "metadata": {},
   "outputs": [
    {
     "name": "stdout",
     "output_type": "stream",
     "text": [
      "The name of the Element is: Hydrogen\n",
      "The symbol of the Element is: H\n",
      "The atomic number of the Element is: 1\n"
     ]
    }
   ],
   "source": [
    "obj.dump()"
   ]
  },
  {
   "cell_type": "markdown",
   "id": "87e09b19",
   "metadata": {},
   "source": [
    "### 7. Call print(hydrogen). In the definition of Element, change the name of method dump to __str__, create a new hydrogen object, and call print(hydrogen) again."
   ]
  },
  {
   "cell_type": "code",
   "execution_count": 40,
   "id": "f9b05126",
   "metadata": {},
   "outputs": [
    {
     "name": "stdout",
     "output_type": "stream",
     "text": [
      "<__main__.Element object at 0x00000220B823EF70>\n"
     ]
    }
   ],
   "source": [
    "class Element:\n",
    "    def __init__(self, name, symbol, number):\n",
    "        self.name=name\n",
    "        self.symbol=symbol\n",
    "        self.number=number\n",
    "        \n",
    "    def str(self):\n",
    "        print('The name of the Element is:',self.name)\n",
    "        print('The symbol of the Element is:',self.symbol)\n",
    "        print('The atomic number of the Element is:',self.number)\n",
    "        \n",
    "dct={'name':'Hydrogen','symbol':'H', 'number':1}\n",
    "hydrogen=Element(**dct)\n",
    "print(hydrogen)"
   ]
  },
  {
   "cell_type": "code",
   "execution_count": 42,
   "id": "0940d486",
   "metadata": {},
   "outputs": [
    {
     "name": "stdout",
     "output_type": "stream",
     "text": [
      "The name of the Element is: Hydrogen\n",
      "The symbol of the Element is: H\n",
      "The atomic number of the Element is: 1\n"
     ]
    }
   ],
   "source": [
    "hydrogen.str()"
   ]
  },
  {
   "cell_type": "markdown",
   "id": "bd6a31b1",
   "metadata": {},
   "source": [
    "### 8. Modify Element to make the attributes name, symbol, and number private. Define a getter property for each to return its value."
   ]
  },
  {
   "cell_type": "code",
   "execution_count": 48,
   "id": "7534da75",
   "metadata": {},
   "outputs": [],
   "source": [
    "class Element:\n",
    "    def __init__(self, name, symbol, number):\n",
    "        self.__name=name\n",
    "        self.__symbol=symbol\n",
    "        self.__number=number\n",
    "        \n",
    "dct={'name':'Hydrogen','symbol':'H', 'number':1}\n",
    "obj=Element(**dct)\n",
    "\n",
    "def getter(ob):\n",
    "    return ob._Element__name, ob._Element__symbol,ob._Element__number"
   ]
  },
  {
   "cell_type": "code",
   "execution_count": 49,
   "id": "8c84fffb",
   "metadata": {},
   "outputs": [
    {
     "data": {
      "text/plain": [
       "('Hydrogen', 'H', 1)"
      ]
     },
     "execution_count": 49,
     "metadata": {},
     "output_type": "execute_result"
    }
   ],
   "source": [
    "getter(obj)"
   ]
  },
  {
   "cell_type": "markdown",
   "id": "05a9038f",
   "metadata": {},
   "source": [
    "### 9. Define three classes: Bear, Rabbit, and Octothorpe. For each, define only one method: eats(). This should return 'berries' (Bear), 'clover' (Rabbit), or 'campers' (Octothorpe). Create one object from each and print what it eats."
   ]
  },
  {
   "cell_type": "code",
   "execution_count": 51,
   "id": "4424263e",
   "metadata": {},
   "outputs": [
    {
     "name": "stdout",
     "output_type": "stream",
     "text": [
      "Bear eats berries\n",
      "Rabbit eats clover\n",
      "Octothorpe eats campers\n"
     ]
    }
   ],
   "source": [
    "class Bear:\n",
    "    def eats(self):\n",
    "        return \"berries\"\n",
    "class Rabbit:\n",
    "    def eats(self):\n",
    "        return \"clover\"\n",
    "class Octothorpe:\n",
    "    def eats(self):\n",
    "        return \"campers\"\n",
    "\n",
    "bear1=Bear()\n",
    "rabbit1=Rabbit()\n",
    "octothorpe1=Octothorpe()\n",
    "\n",
    "print('Bear eats',bear1.eats())\n",
    "print('Rabbit eats',rabbit1.eats())\n",
    "print('Octothorpe eats',octothorpe1.eats())"
   ]
  },
  {
   "cell_type": "markdown",
   "id": "67d9a2ef",
   "metadata": {},
   "source": [
    "### 10. Define these classes: Laser, Claw, and SmartPhone. Each has only one method: does(). This returns 'disintegrate' (Laser), 'crush' (Claw), or 'ring' (SmartPhone). Then, define the class Robot that has one instance (object) of each of these. Define a does() method for the Robot that prints what its component objects do."
   ]
  },
  {
   "cell_type": "code",
   "execution_count": 56,
   "id": "39942a91",
   "metadata": {},
   "outputs": [
    {
     "name": "stdout",
     "output_type": "stream",
     "text": [
      "My laser disintegrate. My claw crush. My phone ring.\n"
     ]
    }
   ],
   "source": [
    "class Laser: \n",
    "    def does(self): \n",
    "        return 'disintegrate'  \n",
    "    \n",
    "class Claw:  \n",
    "    def does(self): \n",
    "        return 'crush' \n",
    "    \n",
    "class SmartPhone: \n",
    "    def does(self):  \n",
    "        return 'ring' \n",
    "    \n",
    "class Robot: \n",
    "    def __init__(self): \n",
    "        self.laser = Laser() \n",
    "        self.claw = Claw() \n",
    "        self.smartphone = SmartPhone() \n",
    "    def does(self): \n",
    "        print('My laser {}. My claw {}. My phone {}.'.format(self.laser.does(),self.claw.does(),self.smartphone.does()))\n",
    "obj = Robot() \n",
    "obj.does()"
   ]
  },
  {
   "cell_type": "code",
   "execution_count": null,
   "id": "94265e8c",
   "metadata": {},
   "outputs": [],
   "source": []
  }
 ],
 "metadata": {
  "kernelspec": {
   "display_name": "Python 3 (ipykernel)",
   "language": "python",
   "name": "python3"
  },
  "language_info": {
   "codemirror_mode": {
    "name": "ipython",
    "version": 3
   },
   "file_extension": ".py",
   "mimetype": "text/x-python",
   "name": "python",
   "nbconvert_exporter": "python",
   "pygments_lexer": "ipython3",
   "version": "3.9.7"
  }
 },
 "nbformat": 4,
 "nbformat_minor": 5
}
