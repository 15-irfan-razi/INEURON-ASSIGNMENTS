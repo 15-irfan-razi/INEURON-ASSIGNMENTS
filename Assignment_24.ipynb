{
 "cells": [
  {
   "cell_type": "markdown",
   "id": "73c475fc",
   "metadata": {},
   "source": [
    "### 1. What is the relationship between def statements and lambda expressions ?"
   ]
  },
  {
   "cell_type": "markdown",
   "id": "53992dad",
   "metadata": {},
   "source": [
    "Python supports the creation of anonymous functions (i.e. functions that are not bound to a name) at runtime, using a construct called \"lambda\"."
   ]
  },
  {
   "cell_type": "markdown",
   "id": "9fb2a3a3",
   "metadata": {},
   "source": [
    "### 2. What is the benefit of lambda?"
   ]
  },
  {
   "cell_type": "markdown",
   "id": "5d225ad1",
   "metadata": {},
   "source": [
    "Lambda Function, also referred to as ‘Anonymous function’ is same as a regular python function but can be defined without a name.\n",
    "\n",
    "##### LAMDA FUNCTION SYNTAX:\n",
    "The syntax for lambda function is given by:\n",
    "lambda arguments: expression\n",
    "\n",
    "There can be any number of arguments but can contain only a single expression. There is no return statement which is usually present in the def function syntax. The function will simply return the expression value even when there is no return statement."
   ]
  },
  {
   "cell_type": "markdown",
   "id": "c1681d6a",
   "metadata": {},
   "source": [
    "### 3. Compare and contrast map, filter, and reduce."
   ]
  },
  {
   "cell_type": "markdown",
   "id": "40567758",
   "metadata": {},
   "source": [
    "#### 1. The map() Function:\n",
    "The map() function iterates through all items in the given iterable and executes the function we passed as an argument on each of them.\n",
    "\n",
    "It's syntax is: map(function, iterable(s))\n",
    "\n",
    "Note: We can pass as many iterable objects as we want after passing the function we want to use."
   ]
  },
  {
   "cell_type": "markdown",
   "id": "dd2dbbbf",
   "metadata": {},
   "source": [
    "#### 2. The filter() Function:\n",
    "\n",
    "Pretty similar to the map(), filter() takes a function object and an iterable and creates a new list.\n",
    "\n",
    "As the name suggests, filter() forms a new list that contains only elements that satisfy a certain condition, i.e. the function we passed returns True.\n",
    "\n",
    "The syntax is: filter(function, iterable(s))\n",
    "\n",
    "Note: Using the previous example, we can see that the new list will only contain elements for which the starts_with_A() function, returning the values which satisfy the conditions."
   ]
  },
  {
   "cell_type": "markdown",
   "id": "6a6dd28c",
   "metadata": {},
   "source": [
    "#### 3. The reduce() Function:\n",
    "\n",
    "The reduce() works differently than map() and filter(). It does not return a new list based on the function and iterable we've passed. Instead, it returns a single value. In Python 3, reduce() isn't a built-in function anymore, and it can be found in the functools module.\n",
    "\n",
    "The syntax is: reduce(function, sequence[, initial])\n",
    "\n",
    "Note: reduce() works by calling the function we passed for the first two items in the sequence. The result returned by the function is used in another call to function alongside with the next (third in this case), element."
   ]
  },
  {
   "cell_type": "markdown",
   "id": "3d15aa2c",
   "metadata": {},
   "source": [
    "### 4. What are function annotations, and how are they used?"
   ]
  },
  {
   "cell_type": "markdown",
   "id": "2c03f79f",
   "metadata": {},
   "source": [
    "Function Annotations were first introduced in Python 3.0 and they add a feature that allows you to add arbitrary metadata to function parameters and return value. Since Python 3.0, function annotations have been officially added to python (PEP-3107). The primary purpose was to have a standard way to link metadata to function parameters and return value.\n",
    "\n",
    "Basics of Function Annotations:\n",
    "\n",
    "1. Let’s understand some basics of function annotations −\n",
    "\n",
    "2. Function annotations are completely optional both for parameters and return value.\n",
    "\n",
    "3. Function annotations provide a way of associating various parts of a function with arbitrary python expressions at compile time.\n",
    "\n",
    "4. The PEP-3107 makes no attempt to introduce any kind of standard semantics, even for the built-in types. All this work left to the third-party libraries."
   ]
  },
  {
   "cell_type": "markdown",
   "id": "d34dc4d8",
   "metadata": {},
   "source": [
    "### 5. What are recursive functions, and how are they used?"
   ]
  },
  {
   "cell_type": "markdown",
   "id": "00aa3e9a",
   "metadata": {},
   "source": [
    "In Python, we know that a function can call other functions. It is even possible for the function to call itself. These types of construct are termed as recursive functions.\n",
    "\n",
    "Ex: Factorial of a number is the product of all the integers from 1 to that number. For example, the factorial of 6 (denoted as 6!) is 1*2*3*4*5*6 = 720."
   ]
  },
  {
   "cell_type": "markdown",
   "id": "a9c4d01c",
   "metadata": {},
   "source": [
    "### 6. What are some general design guidelines for coding functions?"
   ]
  },
  {
   "cell_type": "markdown",
   "id": "b91095c2",
   "metadata": {},
   "source": [
    "For Python, PEP 8 has emerged as the style guide that most projects adhere to; it promotes a very readable and eye-pleasing coding style. Every Python developer should read it at some point; here are the most important points extracted for you:\n",
    "\n",
    "1. Use 4-space indentation and no tabs.\n",
    "\n",
    "2. Use docstrings - There are both single and multi-line docstrings that can be used in Python. However, the single line comment fits in one line, triple quotes are used in both cases. These are used to define a particular program or define a particular function.\n",
    "\n",
    "3.  Wrap lines so that they don’t exceed 79 characters - The Python standard library is conservative and requires limiting lines to 79 characters. The lines can be wrapped using parenthesis, brackets, and braces. They should be used in preference to backslashes.\n",
    "\n",
    "4. Use of regular and updated comments are valuable to both the coders and users - There are also various types and conditions that if followed can be of great help from programs and users point of view. Comments should form complete sentences. If a comment is a full sentence, its first word should be capitalized, unless it is an identifier that begins with a lower case letter. In short comments, the period at the end can be omitted. In block comments, there are more than one paragraphs and each sentence must end with a period. Block comments and inline comments can be written followed by a single ‘#’."
   ]
  },
  {
   "cell_type": "markdown",
   "id": "29a48c05",
   "metadata": {},
   "source": [
    "### 7. Name three or more ways that functions can communicate results to a caller."
   ]
  },
  {
   "cell_type": "markdown",
   "id": "3a800897",
   "metadata": {},
   "source": [
    "A function is a named sequence of statements that belong together. Their primary purpose is to help us organize programs into chunks that match how we think about the problem.\n",
    "\n",
    "The syntax for a function definition is:\n",
    "\n",
    "def name_of_the_functions(parameters):\n",
    "    statements\n",
    "  \n",
    "Function definitions are the second of several compound statements we will see, all of which have the same pattern:\n",
    "\n",
    "1. A header line which begins with a keyword and ends with a colon.\n",
    "\n",
    "2. A body consisting of one or more Python statements, each indented the same amount — the Python style guide recommends 4 spaces — from the header line.\n",
    "\n",
    "Defining a new function does not make the function run. To do that we need a function call. We’ve already seen how to call some built-in functions like print(), range() and int().\n",
    "\n",
    "Calling a function means that you execute the function that you have defined - either directly from the Python prompt or through another function."
   ]
  }
 ],
 "metadata": {
  "kernelspec": {
   "display_name": "Python 3 (ipykernel)",
   "language": "python",
   "name": "python3"
  },
  "language_info": {
   "codemirror_mode": {
    "name": "ipython",
    "version": 3
   },
   "file_extension": ".py",
   "mimetype": "text/x-python",
   "name": "python",
   "nbconvert_exporter": "python",
   "pygments_lexer": "ipython3",
   "version": "3.9.7"
  }
 },
 "nbformat": 4,
 "nbformat_minor": 5
}
