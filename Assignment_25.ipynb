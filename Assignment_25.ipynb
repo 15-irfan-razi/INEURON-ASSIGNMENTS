{
 "cells": [
  {
   "cell_type": "markdown",
   "id": "5311823f",
   "metadata": {},
   "source": [
    "### 1. What is the difference between enclosing a list comprehension in square brackets and parentheses?"
   ]
  },
  {
   "cell_type": "markdown",
   "id": "4ec10b5c",
   "metadata": {},
   "source": [
    "Comma-separated items enclosed by  ( and ) are tuples whilst those enclosed by [ and ] are lists."
   ]
  },
  {
   "cell_type": "markdown",
   "id": "aeacaa7c",
   "metadata": {},
   "source": [
    "As the type() function returns the datasets 'list_comprehension_square_brackets' & 'list_comprehension_parenthesis' for list and tuples, it is proven so. A few distinctive differentiaiton between lists and tuples are:\n",
    "\n",
    "1. A list is mutable, meaning you can change its contents while tuples are not, meaning once the values are entered and saved, they cannot be changed.\n",
    "\n",
    "        Ex: A list is good for saving employee details like his address, phone number, etc. since they can be changed anytime when an employee wants to make a change. His name, blood group and eye color however can be saved in a tuples since they cannot be changed.\n",
    "\n",
    "2. The other main difference is that a tuple is hashable, meaning that you can use it as a key to a dictionary, among other things but a list cannot do so. "
   ]
  },
  {
   "cell_type": "markdown",
   "id": "3af76a01",
   "metadata": {},
   "source": [
    "### 2. What is the relationship between generators and iterators?"
   ]
  },
  {
   "cell_type": "markdown",
   "id": "36d75d00",
   "metadata": {},
   "source": [
    "#### Generators:\n",
    "\n",
    "A python generator function lends us a sequence of values to python iterate on. The following is an example of generators:\n",
    "    \n",
    "#### Iterators:\n",
    "\n",
    "A Python iterator returns us an iterator object- one value at a time. Let’s take an example of an iterator:"
   ]
  },
  {
   "cell_type": "markdown",
   "id": "58fa08f5",
   "metadata": {},
   "source": [
    "### 3. What are the signs that a function is a generator function?"
   ]
  },
  {
   "cell_type": "markdown",
   "id": "3151cb11",
   "metadata": {},
   "source": [
    "Defining generator functions are as easy as defining normal functions (but with yield statements instead of return statements). If a function contains at least one yield statement (it may contain other yield or return statements as well), it becomes a generator function. Both yield and return will return some value from a function."
   ]
  },
  {
   "cell_type": "markdown",
   "id": "65dfdcb9",
   "metadata": {},
   "source": [
    "### 4. What is the purpose of a yield statement?"
   ]
  },
  {
   "cell_type": "markdown",
   "id": "28c30e24",
   "metadata": {},
   "source": [
    "Yield is a keyword that is used to return from a function without destroying the states of its local variable and when the function is called, the execution starts from the last yield statement. Any function that contains a yield keyword is termed a generator. Hence, yield is what makes a generator. The yield keyword in Python is less known off but has a greater utility which one can think of."
   ]
  },
  {
   "cell_type": "markdown",
   "id": "fd96be1a",
   "metadata": {},
   "source": [
    "### 5. What is the relationship between map calls and list comprehensions? Make a comparison and contrast between the two."
   ]
  },
  {
   "cell_type": "markdown",
   "id": "70a7fcaa",
   "metadata": {},
   "source": [
    "Lets say that we have a function and we want to compute the said function for different values in a single line of code. This is where map() function comes in the picture. \n",
    "\n",
    "###### 1. THE MAP( ) FUNCTION: \n",
    "\n",
    "The map( ) function returns a map object(which is an iterator) of the results after applying the given function to each item of a given iterable (list, tuple etc.)\n",
    "\n",
    "Syntax: map(func_name,iterables)\n",
    "\n",
    "Parameters:\n",
    "\n",
    "1. func_name: It is the name of the function which is already defined and is to be executed for each item. \n",
    "\n",
    "2. iterables: It can be list, tuples or any other iterable object.\n",
    "\n",
    "3. Return Type: Returns a map object after applying the given function to each item of a given iterable (list, tuple etc.)\n"
   ]
  },
  {
   "cell_type": "markdown",
   "id": "82951465",
   "metadata": {},
   "source": [
    "##### 1. THE LIST COMPREHENSION:\n",
    "\n",
    "List Comprehension is a substitute for the lambda functions, map(), filter() and reduce(). It follows the form of the mathematical set-builder notation. It provide a concise way to create lists.\n",
    "\n",
    "Syntax:\n",
    "\n",
    "[ expression for item in list if conditional ]\n",
    "\n",
    "Parameters:\n",
    "\n",
    "1. Expression – based on the variable used for each element\n",
    "\n",
    "2. for ..in – ‘for’ followed by the variable name to use, followed by ‘in’ \n",
    "\n",
    "3. if – to filter"
   ]
  }
 ],
 "metadata": {
  "kernelspec": {
   "display_name": "Python 3 (ipykernel)",
   "language": "python",
   "name": "python3"
  },
  "language_info": {
   "codemirror_mode": {
    "name": "ipython",
    "version": 3
   },
   "file_extension": ".py",
   "mimetype": "text/x-python",
   "name": "python",
   "nbconvert_exporter": "python",
   "pygments_lexer": "ipython3",
   "version": "3.9.7"
  }
 },
 "nbformat": 4,
 "nbformat_minor": 5
}
