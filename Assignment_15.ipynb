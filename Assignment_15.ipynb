{
 "cells": [
  {
   "cell_type": "markdown",
   "id": "df1b0bd5",
   "metadata": {},
   "source": [
    "### 1.How many seconds are in an hour? Use the interactive interpreter as a calculator and multiply the number of seconds in a minute (60) by the number of minutes in an hour (also 60)."
   ]
  },
  {
   "cell_type": "code",
   "execution_count": 107,
   "id": "90b0ad02",
   "metadata": {},
   "outputs": [
    {
     "name": "stdout",
     "output_type": "stream",
     "text": [
      "Total seconds in an hour are:  3600 seconds\n"
     ]
    }
   ],
   "source": [
    "seconds_per_min = 60\n",
    "seconds_in_an_hour = seconds_per_min*60\n",
    "print(\"Total seconds in an hour are: \",seconds_in_an_hour,'seconds')"
   ]
  },
  {
   "cell_type": "markdown",
   "id": "72b8d771",
   "metadata": {},
   "source": [
    "### 2. Assign the result from the previous task (seconds in an hour) to a variable called seconds_per_hour."
   ]
  },
  {
   "cell_type": "code",
   "execution_count": 108,
   "id": "03c2be9d",
   "metadata": {},
   "outputs": [],
   "source": [
    "seconds_per_hour=seconds_in_an_hour"
   ]
  },
  {
   "cell_type": "markdown",
   "id": "5f8a5825",
   "metadata": {},
   "source": [
    "### 3. How many seconds do you think there are in a day? Make use of the variables seconds per hour and minutes per hour."
   ]
  },
  {
   "cell_type": "code",
   "execution_count": 110,
   "id": "05dde4ac",
   "metadata": {},
   "outputs": [
    {
     "name": "stdout",
     "output_type": "stream",
     "text": [
      "Total Number of seconds in a day:  86400 seconds\n"
     ]
    }
   ],
   "source": [
    "hours_per_day = 24\n",
    "sec_per_day = hours_per_day*seconds_per_hour\n",
    "print(\"Total Number of seconds in a day: \",seconds_per_day,'seconds')"
   ]
  },
  {
   "cell_type": "markdown",
   "id": "dcd73125",
   "metadata": {},
   "source": [
    "### 4. Calculate seconds per day again, but this time save the result in a variable called seconds_per_day."
   ]
  },
  {
   "cell_type": "code",
   "execution_count": 111,
   "id": "90018ce2",
   "metadata": {},
   "outputs": [],
   "source": [
    "seconds_per_day = sec_per_day"
   ]
  },
  {
   "cell_type": "markdown",
   "id": "86db528f",
   "metadata": {},
   "source": [
    "### 5. Divide seconds_per_day by seconds_per_hour. Use floating-point (/) division."
   ]
  },
  {
   "cell_type": "code",
   "execution_count": 113,
   "id": "450599ff",
   "metadata": {},
   "outputs": [
    {
     "name": "stdout",
     "output_type": "stream",
     "text": [
      "24.0\n"
     ]
    }
   ],
   "source": [
    "number_of_hours_float=seconds_per_day/seconds_per_hour\n",
    "print(number_of_hours_float)"
   ]
  },
  {
   "cell_type": "markdown",
   "id": "184a1bd9",
   "metadata": {},
   "source": [
    "### 6. Divide seconds_per_day by seconds_per_hour, using integer (//) division. Did this number agree with the floating-point value from the previous question, aside from the final .0?"
   ]
  },
  {
   "cell_type": "code",
   "execution_count": 114,
   "id": "96029c6e",
   "metadata": {},
   "outputs": [
    {
     "name": "stdout",
     "output_type": "stream",
     "text": [
      "24\n"
     ]
    }
   ],
   "source": [
    "number_of_hours=seconds_per_day//seconds_per_hour\n",
    "print(number_of_hours)"
   ]
  },
  {
   "cell_type": "markdown",
   "id": "a4067049",
   "metadata": {},
   "source": [
    "## Yes, it matches."
   ]
  },
  {
   "cell_type": "markdown",
   "id": "550f03ee",
   "metadata": {},
   "source": [
    "### 7. Write a generator, genPrimes, that returns the sequence of prime numbers on successive calls to its next() method: 2, 3, 5, 7, 11, ..."
   ]
  },
  {
   "cell_type": "code",
   "execution_count": 115,
   "id": "242ba1cb",
   "metadata": {},
   "outputs": [
    {
     "name": "stdout",
     "output_type": "stream",
     "text": [
      "<generator object prime_numbers at 0x0000018F61320BA0>\n"
     ]
    }
   ],
   "source": [
    "def prime_numbers():\n",
    "    prime = []   \n",
    "    prev = 1     \n",
    "    while True:\n",
    "        prev += 1\n",
    "        for p in prime:\n",
    "            if prev % p == 0:\n",
    "                break\n",
    "        else:\n",
    "            prime.append(last)\n",
    "            yield last\n",
    "p_number =prime_numbers()\n",
    "print(p_number)"
   ]
  },
  {
   "cell_type": "code",
   "execution_count": null,
   "id": "0ea6d994",
   "metadata": {},
   "outputs": [],
   "source": []
  }
 ],
 "metadata": {
  "kernelspec": {
   "display_name": "Python 3 (ipykernel)",
   "language": "python",
   "name": "python3"
  },
  "language_info": {
   "codemirror_mode": {
    "name": "ipython",
    "version": 3
   },
   "file_extension": ".py",
   "mimetype": "text/x-python",
   "name": "python",
   "nbconvert_exporter": "python",
   "pygments_lexer": "ipython3",
   "version": "3.9.7"
  }
 },
 "nbformat": 4,
 "nbformat_minor": 5
}
