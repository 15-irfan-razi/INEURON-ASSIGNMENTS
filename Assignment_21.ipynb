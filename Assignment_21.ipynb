{
 "cells": [
  {
   "cell_type": "markdown",
   "id": "cb039847",
   "metadata": {},
   "source": [
    "### 1. Add the current date to the text file today.txt as a string."
   ]
  },
  {
   "cell_type": "code",
   "execution_count": 2,
   "id": "c56178a6",
   "metadata": {},
   "outputs": [],
   "source": [
    "import datetime\n",
    "current_date = datetime.datetime.now()\n",
    "file = open('today.txt','a')\n",
    "file.write(str(\"NOW is:\")+str(current_date)+str(\"\\n\"))\n",
    "file.close()"
   ]
  },
  {
   "cell_type": "markdown",
   "id": "783948d6",
   "metadata": {},
   "source": [
    "### 2. Read the text file today.txt into the string today_string"
   ]
  },
  {
   "cell_type": "code",
   "execution_count": 4,
   "id": "184d125b",
   "metadata": {},
   "outputs": [
    {
     "name": "stdout",
     "output_type": "stream",
     "text": [
      "NOW is:2022-02-04 01:00:59.493723\n",
      " \n",
      "\n"
     ]
    }
   ],
   "source": [
    "today = open(\"today.txt\")\n",
    "print(today.read(),\"\\n\")"
   ]
  },
  {
   "cell_type": "markdown",
   "id": "4272a03a",
   "metadata": {},
   "source": [
    "### 3. Parse the date from today_string."
   ]
  },
  {
   "cell_type": "code",
   "execution_count": 5,
   "id": "be2ffa6a",
   "metadata": {},
   "outputs": [
    {
     "name": "stdout",
     "output_type": "stream",
     "text": [
      "Today's Date is: 2022-02-04\n"
     ]
    }
   ],
   "source": [
    "import datetime\n",
    "today = datetime.date.today()\n",
    "print(\"Today's Date is:\",today)"
   ]
  },
  {
   "cell_type": "markdown",
   "id": "b4b6cb0b",
   "metadata": {},
   "source": [
    "### 4. List the files in your current directory"
   ]
  },
  {
   "cell_type": "code",
   "execution_count": 6,
   "id": "a6f6e29e",
   "metadata": {},
   "outputs": [
    {
     "name": "stdout",
     "output_type": "stream",
     "text": [
      " Volume in drive C has no label.\n",
      " Volume Serial Number is EAA9-0D1E\n",
      "\n",
      " Directory of C:\\Users\\IRU\\INEURON\\ASSIGNMENTS\\Irfan\\01. Python Basic Assignment\n",
      "\n",
      "04-02-2022  01:00    <DIR>          .\n",
      "04-02-2022  01:00    <DIR>          ..\n",
      "04-02-2022  00:52    <DIR>          .ipynb_checkpoints\n",
      "03-02-2022  21:56    <DIR>          __pycache__\n",
      "04-02-2022  01:00             3,459 Assignment_21.ipynb\n",
      "04-02-2022  00:33             6,365 Assignment_22.ipynb\n",
      "04-02-2022  00:40             7,658 Assignment_23.ipynb\n",
      "04-02-2022  00:51             8,669 Assignment_24.ipynb\n",
      "04-02-2022  00:58             5,547 Assignment_25.ipynb\n",
      "04-02-2022  01:00                35 today.txt\n",
      "               6 File(s)         31,733 bytes\n",
      "               4 Dir(s)  51,846,713,344 bytes free\n"
     ]
    }
   ],
   "source": [
    "ls"
   ]
  },
  {
   "cell_type": "markdown",
   "id": "05c3707a",
   "metadata": {},
   "source": [
    "### 5. Create a list of all of the files in your parent directory (minimum five files should be available)."
   ]
  },
  {
   "cell_type": "code",
   "execution_count": 7,
   "id": "a40058d1",
   "metadata": {},
   "outputs": [
    {
     "name": "stdout",
     "output_type": "stream",
     "text": [
      "C:\\Users\\IRU\\INEURON\\ASSIGNMENTS\\Irfan\\01. Python Basic Assignment The list of files in the directory: \n",
      "Assignment_21.ipynb\n",
      "Assignment_22.ipynb\n",
      "Assignment_23.ipynb\n",
      "Assignment_24.ipynb\n",
      "Assignment_25.ipynb\n",
      "today.txt\n",
      "Assignment_15-checkpoint.ipynb\n",
      "Assignment_16-checkpoint.ipynb\n",
      "Assignment_17-checkpoint.ipynb\n",
      "Assignment_18-checkpoint.ipynb\n",
      "Assignment_19-checkpoint.ipynb\n",
      "Assignment_20-checkpoint.ipynb\n",
      "Assignment_21-checkpoint.ipynb\n",
      "Assignment_22-checkpoint.ipynb\n",
      "Assignment_23-checkpoint.ipynb\n",
      "Assignment_24-checkpoint.ipynb\n",
      "Assignment_25-checkpoint.ipynb\n",
      "zoo.cpython-39.pyc\n"
     ]
    }
   ],
   "source": [
    "import os\n",
    "print(os.getcwd(),\"The list of files in the directory: \")\n",
    "for root, dirs, files in os.walk(\".\"):\n",
    "    for filename in files:\n",
    "        print(filename)"
   ]
  },
  {
   "cell_type": "markdown",
   "id": "6f835bbd",
   "metadata": {},
   "source": [
    "### 6. Use multiprocessing to create three separate processes. Make each one wait a random number of seconds between one and five, print the current time, and then exit."
   ]
  },
  {
   "cell_type": "code",
   "execution_count": 8,
   "id": "6f89ea43",
   "metadata": {},
   "outputs": [],
   "source": [
    "import multiprocessing as mp\n",
    "import collections\n",
    "Msg = collections.namedtuple('Msg', ['event', 'args'])\n",
    "class BaseProcess(mp.Process):\n",
    "    \"\"\"A process backed by an internal queue for simple one-way message passing.\n",
    "    \"\"\"\n",
    "    def __init__(self, *args, **kwargs):\n",
    "        super().__init__(*args, **kwargs)\n",
    "        self.queue = mp.Queue()\n",
    "\n",
    "    def send(self, event, *args):\n",
    "        \"\"\"Puts the event and args as a `Msg` on the queue\n",
    "        \"\"\"\n",
    "        msg = Msg(event, args)\n",
    "        self.queue.put(msg)\n",
    "    def dispatch(self, msg):\n",
    "        event, args = msg\n",
    "        handler = getattr(self, \"do_%s\" % event, None)\n",
    "        if not handler:\n",
    "            raise NotImplementedError(\"Process has no handler for [%s]\" % event)\n",
    "        handler(*args)\n",
    "    def run(self):\n",
    "        while True:\n",
    "            msg = self.queue.get()\n",
    "            self.dispatch(msg)"
   ]
  },
  {
   "cell_type": "markdown",
   "id": "90206dae",
   "metadata": {},
   "source": [
    "### 7. Create a date object of your day of birth."
   ]
  },
  {
   "cell_type": "code",
   "execution_count": 12,
   "id": "37c6cd4f",
   "metadata": {},
   "outputs": [
    {
     "data": {
      "text/plain": [
       "'15-01-1992'"
      ]
     },
     "execution_count": 12,
     "metadata": {},
     "output_type": "execute_result"
    }
   ],
   "source": [
    "birth_date = \"15-01-1992\"\n",
    "birth_date"
   ]
  },
  {
   "cell_type": "markdown",
   "id": "cd81578d",
   "metadata": {},
   "source": [
    "### 8. What day of the week was your day of birth?"
   ]
  },
  {
   "cell_type": "code",
   "execution_count": 14,
   "id": "d5a81be8",
   "metadata": {},
   "outputs": [
    {
     "name": "stdout",
     "output_type": "stream",
     "text": [
      "Wednesday\n"
     ]
    }
   ],
   "source": [
    "import datetime\n",
    "import calendar\n",
    " \n",
    "def birthDay(date):\n",
    "    born = datetime.datetime.strptime(date, '%d-%m-%Y').weekday()\n",
    "    return (calendar.day_name[born])\n",
    " \n",
    "print(birthDay(birth_date))"
   ]
  },
  {
   "cell_type": "markdown",
   "id": "eac915cf",
   "metadata": {},
   "source": [
    "### 9. When will you be (or when were you) 10,000 days old?"
   ]
  },
  {
   "cell_type": "code",
   "execution_count": 15,
   "id": "5b32292c",
   "metadata": {},
   "outputs": [
    {
     "name": "stdout",
     "output_type": "stream",
     "text": [
      "You were 10000 days old on 2019-06-02 00:00:00\n"
     ]
    }
   ],
   "source": [
    "import datetime\n",
    "import calendar\n",
    "\n",
    "bday =  datetime.datetime.strptime(birth_date, \"%d-%m-%Y\")\n",
    "date = bday + datetime.timedelta(days=10000)\n",
    "print(\"You were 10000 days old on\",date)"
   ]
  },
  {
   "cell_type": "code",
   "execution_count": null,
   "id": "aff3ecc4",
   "metadata": {},
   "outputs": [],
   "source": []
  }
 ],
 "metadata": {
  "kernelspec": {
   "display_name": "Python 3 (ipykernel)",
   "language": "python",
   "name": "python3"
  },
  "language_info": {
   "codemirror_mode": {
    "name": "ipython",
    "version": 3
   },
   "file_extension": ".py",
   "mimetype": "text/x-python",
   "name": "python",
   "nbconvert_exporter": "python",
   "pygments_lexer": "ipython3",
   "version": "3.9.7"
  }
 },
 "nbformat": 4,
 "nbformat_minor": 5
}
