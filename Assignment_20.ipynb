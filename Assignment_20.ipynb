{
 "cells": [
  {
   "cell_type": "markdown",
   "id": "ecca3211",
   "metadata": {},
   "source": [
    "### 1. Set the variable test1 to the string 'This is a test of the emergency text system,' and save test1 to a file named test.txt."
   ]
  },
  {
   "cell_type": "code",
   "execution_count": 1,
   "id": "447b231f",
   "metadata": {},
   "outputs": [],
   "source": [
    "import os\n",
    "test1 = 'This is a test of the emergency text system'\n",
    "file = open('test.txt', 'w')\n",
    "file.write(test1)\n",
    "file.close()"
   ]
  },
  {
   "cell_type": "markdown",
   "id": "6bbf85a3",
   "metadata": {},
   "source": [
    "### 2. Read the contents of the file test.txt into the variable test2. Is there a difference between test 1 and test 2?"
   ]
  },
  {
   "cell_type": "code",
   "execution_count": 2,
   "id": "0a9a3bc1",
   "metadata": {},
   "outputs": [
    {
     "name": "stdout",
     "output_type": "stream",
     "text": [
      "This is a test of the emergency text system\n",
      "This is a test of the emergency text system\n"
     ]
    }
   ],
   "source": [
    "test2 = open('test.txt','r')\n",
    "for i in test2:\n",
    "    print(i)\n",
    "print(test1)"
   ]
  },
  {
   "cell_type": "markdown",
   "id": "ebd1e920",
   "metadata": {},
   "source": [
    "No difference between test1 and test2."
   ]
  },
  {
   "cell_type": "markdown",
   "id": "b2000f9a",
   "metadata": {},
   "source": [
    "### 3. Create a CSV file called books.csv by using these lines:\n",
    "title,author,year\n",
    "\n",
    "The Weirdstone of Brisingamen,Alan Garner,1960\n",
    "\n",
    "Perdido Street Station,China Miéville,2000\n",
    "\n",
    "Thud!,Terry Pratchett,2005\n",
    "\n",
    "The Spellman Files,Lisa Lutz,2007\n",
    "\n",
    "Small Gods,Terry Pratchett,1992\n"
   ]
  },
  {
   "cell_type": "code",
   "execution_count": 44,
   "id": "8b57fbf4",
   "metadata": {},
   "outputs": [
    {
     "name": "stdout",
     "output_type": "stream",
     "text": [
      "\n",
      "\n",
      "title,author,year\n",
      "\n",
      "The Weirdstone of Brisingamen,Alan Garner,1960\n",
      "\n",
      "Perdido Street Station,China Miéville,2000\n",
      "\n",
      "Thud!,Terry Pratchett,2005\n",
      "\n",
      "The Spellman Files,Lisa Lutz,2007\n",
      "\n",
      "Small Gods,Terry Pratchett,1992\n",
      "\n"
     ]
    }
   ],
   "source": [
    "string=\"\"\"\n",
    "title,author,year\n",
    "The Weirdstone of Brisingamen,Alan Garner,1960\n",
    "Perdido Street Station,China Miéville,2000\n",
    "Thud!,Terry Pratchett,2005\n",
    "The Spellman Files,Lisa Lutz,2007\n",
    "Small Gods,Terry Pratchett,1992\n",
    "\"\"\"\n",
    "import os\n",
    "file = open('book.csv', 'w')\n",
    "file.write(string)\n",
    "file.close()\n",
    "file = open(\"book.csv\",'r')\n",
    "for i in file:\n",
    "    print(i)\n",
    "    \n",
    "file.close()"
   ]
  },
  {
   "cell_type": "markdown",
   "id": "177ca312",
   "metadata": {},
   "source": [
    "### 4. Use the sqlite3 module to create a SQLite database called books.db, and a table called books with these fields: title (text), author (text), and year (integer)."
   ]
  },
  {
   "cell_type": "code",
   "execution_count": 80,
   "id": "ddc9017d",
   "metadata": {},
   "outputs": [],
   "source": [
    "import sqlite3\n",
    "\n",
    "conn=sqlite3.connect(\"book.db\")\n",
    "cur=conn.cursor()\n",
    "cur.execute(\"CREATE TABLE IF NOT EXISTS book(title text,author text,year integer)\")\n",
    "conn.commit()\n",
    "conn.close()"
   ]
  },
  {
   "cell_type": "markdown",
   "id": "4206673b",
   "metadata": {},
   "source": [
    "### 5. Read books.csv and insert its data into the book table."
   ]
  },
  {
   "cell_type": "code",
   "execution_count": 83,
   "id": "35f02dd6",
   "metadata": {},
   "outputs": [
    {
     "data": {
      "text/plain": [
       "<sqlite3.Cursor at 0x24c23171b90>"
      ]
     },
     "execution_count": 83,
     "metadata": {},
     "output_type": "execute_result"
    }
   ],
   "source": [
    "import sqlite3\n",
    "\n",
    "conn=sqlite3.connect(\"book.db\")\n",
    "cur=conn.cursor()\n",
    "\n",
    "cur.execute(\"INSERT INTO book VALUES ('The Weirdstone of Brisingamen','Alan Garner',1960)\")\n",
    "cur.execute(\"INSERT INTO book VALUES ('Perdido Street Station','China Miéville',2000)\")\n",
    "cur.execute(\"INSERT INTO book VALUES ('Thud!','Terry Pratchett',2005)\")\n",
    "cur.execute(\"INSERT INTO book VALUES ('Terry Pratchett','Lisa Lutz',2007)\")\n",
    "cur.execute(\"INSERT INTO book VALUES ('Small Gods','Terry Pratchett',1992)\")"
   ]
  },
  {
   "cell_type": "markdown",
   "id": "9ce5d1ac",
   "metadata": {},
   "source": [
    "### 6. Select and print the title column from the book table in alphabetical order."
   ]
  },
  {
   "cell_type": "code",
   "execution_count": 85,
   "id": "fc615214",
   "metadata": {},
   "outputs": [
    {
     "name": "stdout",
     "output_type": "stream",
     "text": [
      "('Perdido Street Station', 'China Miéville', 2000)\n",
      "('Small Gods', 'Terry Pratchett', 1992)\n",
      "('Terry Pratchett', 'Lisa Lutz', 2007)\n",
      "('The Weirdstone of Brisingamen', 'Alan Garner', 1960)\n",
      "('Thud!', 'Terry Pratchett', 2005)\n"
     ]
    }
   ],
   "source": [
    "for row in cur.execute('SELECT * FROM book ORDER BY title'):\n",
    "    print(row)"
   ]
  },
  {
   "cell_type": "markdown",
   "id": "11f8bc7c",
   "metadata": {},
   "source": [
    "### 7. From the book table, select and print all columns in the order of publication."
   ]
  },
  {
   "cell_type": "code",
   "execution_count": 86,
   "id": "6e96c27f",
   "metadata": {},
   "outputs": [
    {
     "name": "stdout",
     "output_type": "stream",
     "text": [
      "('The Weirdstone of Brisingamen', 'Alan Garner', 1960)\n",
      "('Small Gods', 'Terry Pratchett', 1992)\n",
      "('Perdido Street Station', 'China Miéville', 2000)\n",
      "('Thud!', 'Terry Pratchett', 2005)\n",
      "('Terry Pratchett', 'Lisa Lutz', 2007)\n"
     ]
    }
   ],
   "source": [
    "for row in cur.execute('SELECT * FROM book ORDER BY year'):\n",
    "    print(row)"
   ]
  },
  {
   "cell_type": "markdown",
   "id": "7fc0713c",
   "metadata": {},
   "source": [
    "### 8. Use the sqlalchemy module to connect to the sqlite3 database books.db that you just made in exercise 6."
   ]
  },
  {
   "cell_type": "code",
   "execution_count": 90,
   "id": "f10642b8",
   "metadata": {},
   "outputs": [
    {
     "data": {
      "text/plain": [
       "Engine(sqlite:////book.db)"
      ]
     },
     "execution_count": 90,
     "metadata": {},
     "output_type": "execute_result"
    }
   ],
   "source": [
    "import sqlalchemy\n",
    "import pandas as pd\n",
    "\n",
    "dbEngine=sqlalchemy.create_engine('sqlite:////book.db') \n",
    "dbEngine"
   ]
  },
  {
   "cell_type": "markdown",
   "id": "9f6289e8",
   "metadata": {},
   "source": [
    "### 9. Install the Redis server and the Python redis library (pip install redis) on your computer. Create a Redis hash called test with the fields count (1) and name ('Fester Bestertester'). Print all the fields for test."
   ]
  },
  {
   "cell_type": "code",
   "execution_count": null,
   "id": "43d42760",
   "metadata": {},
   "outputs": [],
   "source": [
    "import redis\n",
    "import pyodbc\n",
    "import sqlalchemy as sal\n",
    "from sqlalchemy import create_engine\n",
    "import pandas as pd\n",
    "test = redis.Redis( host='localhost', port=8888)\n",
    "test.set('name', 'Fester Bestertester')\n",
    "value = test.get('name')\n",
    "print(\"Value from Redis -->\", value)"
   ]
  },
  {
   "cell_type": "markdown",
   "id": "89dedaab",
   "metadata": {},
   "source": [
    "### 10. Increment the count field of test and print it."
   ]
  },
  {
   "cell_type": "code",
   "execution_count": null,
   "id": "7e399211",
   "metadata": {},
   "outputs": [],
   "source": []
  }
 ],
 "metadata": {
  "kernelspec": {
   "display_name": "Python 3 (ipykernel)",
   "language": "python",
   "name": "python3"
  },
  "language_info": {
   "codemirror_mode": {
    "name": "ipython",
    "version": 3
   },
   "file_extension": ".py",
   "mimetype": "text/x-python",
   "name": "python",
   "nbconvert_exporter": "python",
   "pygments_lexer": "ipython3",
   "version": "3.9.7"
  }
 },
 "nbformat": 4,
 "nbformat_minor": 5
}
