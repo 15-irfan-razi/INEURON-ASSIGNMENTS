{
 "cells": [
  {
   "cell_type": "markdown",
   "id": "8e5320f0",
   "metadata": {},
   "source": [
    "### 1. What is the result of the code, and explain?"
   ]
  },
  {
   "cell_type": "code",
   "execution_count": 2,
   "id": "76db75b8",
   "metadata": {},
   "outputs": [
    {
     "name": "stdout",
     "output_type": "stream",
     "text": [
      "iNeuron\n"
     ]
    }
   ],
   "source": [
    "X = 'iNeuron'\n",
    "def func():\n",
    "    print(X)\n",
    "func()"
   ]
  },
  {
   "cell_type": "markdown",
   "id": "bd1329e8",
   "metadata": {},
   "source": [
    "The code is a function named 'func' will be printing the global variable 'X' which is 'iNeuron'."
   ]
  },
  {
   "cell_type": "markdown",
   "id": "7ec682d7",
   "metadata": {},
   "source": [
    "### 2. What is the result of the code, and explain?"
   ]
  },
  {
   "cell_type": "code",
   "execution_count": 3,
   "id": "26d17015",
   "metadata": {},
   "outputs": [
    {
     "name": "stdout",
     "output_type": "stream",
     "text": [
      "iNeuron\n"
     ]
    }
   ],
   "source": [
    "X = 'iNeuron'\n",
    "def func():\n",
    "    X = 'NI!'\n",
    "func()\n",
    "print(X)"
   ]
  },
  {
   "cell_type": "markdown",
   "id": "234e2615",
   "metadata": {},
   "source": [
    "The variable 'X' has 'iNeuron' assigned outside the function so it may have been re-assigned inside the function but when checked outside the function 'func', it will be the initial value it was assigned with.\n",
    "\n"
   ]
  },
  {
   "cell_type": "markdown",
   "id": "6d3426d9",
   "metadata": {},
   "source": [
    "### 3. What does this code print, and why?"
   ]
  },
  {
   "cell_type": "code",
   "execution_count": 4,
   "id": "f8beac7d",
   "metadata": {},
   "outputs": [
    {
     "name": "stdout",
     "output_type": "stream",
     "text": [
      "NI\n",
      "iNeuron\n"
     ]
    }
   ],
   "source": [
    "X = 'iNeuron'\n",
    "def func():\n",
    "    X = 'NI'\n",
    "    print(X)\n",
    "func()\n",
    "print(X)"
   ]
  },
  {
   "cell_type": "markdown",
   "id": "4d022def",
   "metadata": {},
   "source": [
    "The variable 'X' will have two different values inside and outside the function 'func' so the outputs will give us two values of 'X':\n",
    "\n",
    "1. The first print returns 'NI' because the value of 'X' was re-assigned inside the function 'func' to 'NI'.\n",
    "\n",
    "2. The second print returns 'iNeuron' because the value of 'X' is 'iNeuron outside the function 'func' and it wont consider the change made to it inside the function. Such a variable is also known as a 'global variable'.\n",
    "\n"
   ]
  },
  {
   "cell_type": "markdown",
   "id": "bc44efc5",
   "metadata": {},
   "source": [
    "### 4. What output does this code produce? Why?"
   ]
  },
  {
   "cell_type": "code",
   "execution_count": 5,
   "id": "08696ef9",
   "metadata": {},
   "outputs": [
    {
     "name": "stdout",
     "output_type": "stream",
     "text": [
      "NI\n"
     ]
    }
   ],
   "source": [
    "X = 'iNeuron'\n",
    "def func():\n",
    "    global X\n",
    "    X = 'NI'\n",
    "func()\n",
    "print(X)"
   ]
  },
  {
   "cell_type": "markdown",
   "id": "841a2409",
   "metadata": {},
   "source": [
    "The variable 'X' has been declared as a global variable inside the function 'func'. Hence, the output will always be 'NI', no matter how many times it is re-assigned."
   ]
  },
  {
   "cell_type": "markdown",
   "id": "0ad2319e",
   "metadata": {},
   "source": [
    "### 5. What about this code—what’s the output, and why?"
   ]
  },
  {
   "cell_type": "code",
   "execution_count": 6,
   "id": "5ab2d5c5",
   "metadata": {},
   "outputs": [
    {
     "name": "stdout",
     "output_type": "stream",
     "text": [
      "iNeuron\n"
     ]
    },
    {
     "data": {
      "text/plain": [
       "'iNeuron'"
      ]
     },
     "execution_count": 6,
     "metadata": {},
     "output_type": "execute_result"
    }
   ],
   "source": [
    "X = 'iNeuron'\n",
    "def func():\n",
    "    X = 'NI'\n",
    "def nested():\n",
    "    print(X)\n",
    "nested()\n",
    "func()\n",
    "X"
   ]
  },
  {
   "cell_type": "markdown",
   "id": "00048de1",
   "metadata": {},
   "source": [
    "The function 'nested' will return 'iNeuron' because it has no re-assignments done for the variable 'X' inside the function. Hence, the result will be 'iNeuron' and when called outside the function, it will still be 'iNeuron' for the global variable has the said value stored in it. "
   ]
  },
  {
   "cell_type": "markdown",
   "id": "94b937c8",
   "metadata": {},
   "source": [
    "### 6. How about this code: what is its output in Python 3, and explain?"
   ]
  },
  {
   "cell_type": "code",
   "execution_count": 7,
   "id": "54b9492a",
   "metadata": {},
   "outputs": [
    {
     "ename": "SyntaxError",
     "evalue": "no binding for nonlocal 'X' found (Temp/ipykernel_6888/2348404866.py, line 2)",
     "output_type": "error",
     "traceback": [
      "\u001b[1;36m  File \u001b[1;32m\"C:\\Users\\IRU\\AppData\\Local\\Temp/ipykernel_6888/2348404866.py\"\u001b[1;36m, line \u001b[1;32m2\u001b[0m\n\u001b[1;33m    def nested(): nonlocal X\u001b[0m\n\u001b[1;37m                  ^\u001b[0m\n\u001b[1;31mSyntaxError\u001b[0m\u001b[1;31m:\u001b[0m no binding for nonlocal 'X' found\n"
     ]
    }
   ],
   "source": [
    "def func(): X = 'NI'\n",
    "def nested(): nonlocal X\n",
    "X = 'Spam'\n",
    "nested()\n",
    "print(X)"
   ]
  },
  {
   "cell_type": "markdown",
   "id": "5948a14f",
   "metadata": {},
   "source": [
    "If you use nonlocal, that means that Python will, at the start of the function, look for a variable with the same name from one scope above (and beyond). But here you did not define such one. We can fix it with defining one, one level higher but since that is not done here, it is returning a 'SyntaxError'."
   ]
  }
 ],
 "metadata": {
  "kernelspec": {
   "display_name": "Python 3 (ipykernel)",
   "language": "python",
   "name": "python3"
  },
  "language_info": {
   "codemirror_mode": {
    "name": "ipython",
    "version": 3
   },
   "file_extension": ".py",
   "mimetype": "text/x-python",
   "name": "python",
   "nbconvert_exporter": "python",
   "pygments_lexer": "ipython3",
   "version": "3.9.7"
  }
 },
 "nbformat": 4,
 "nbformat_minor": 5
}
